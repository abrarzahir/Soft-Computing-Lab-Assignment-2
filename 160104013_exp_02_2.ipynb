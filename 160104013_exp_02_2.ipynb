{
  "nbformat": 4,
  "nbformat_minor": 0,
  "metadata": {
    "colab": {
      "name": "160104013_exp_02_2.ipynb",
      "provenance": [],
      "collapsed_sections": []
    },
    "kernelspec": {
      "name": "python3",
      "display_name": "Python 3"
    },
    "language_info": {
      "name": "python"
    },
    "accelerator": "GPU"
  },
  "cells": [
    {
      "cell_type": "code",
      "metadata": {
        "id": "hcGzObsfl6t1"
      },
      "source": [
        "import numpy as np\n",
        "import pandas as pd\n",
        "import torch\n",
        "import torch.nn as nn\n",
        "import torch.nn.functional as F\n",
        "import torch.optim as optim\n",
        "from torch.utils.data import Dataset\n",
        "from torch.utils.data.sampler import SubsetRandomSampler\n",
        "from torchvision import datasets, transforms, models\n",
        "import os\n",
        "from os import path\n",
        "import matplotlib\n",
        "import matplotlib.pyplot as plt\n",
        "from PIL import Image\n",
        "\n",
        "from torch.utils.data import Dataset, DataLoader"
      ],
      "execution_count": 1,
      "outputs": []
    },
    {
      "cell_type": "code",
      "metadata": {
        "colab": {
          "base_uri": "https://localhost:8080/"
        },
        "id": "TyjGWVeFl--4",
        "outputId": "8d9a55ff-7830-468f-c510-65174ea02a51"
      },
      "source": [
        "from google.colab import drive\n",
        "drive.mount('/content/gdrive')"
      ],
      "execution_count": 2,
      "outputs": [
        {
          "output_type": "stream",
          "name": "stdout",
          "text": [
            "Mounted at /content/gdrive\n"
          ]
        }
      ]
    },
    {
      "cell_type": "code",
      "metadata": {
        "colab": {
          "base_uri": "https://localhost:8080/"
        },
        "id": "2p3XH8gcmFOq",
        "outputId": "e9644a54-e641-49f2-ecc0-7db7695f9b73"
      },
      "source": [
        "!unzip '/content/gdrive/MyDrive/Dataset_2.zip/Dataset_2.zip'"
      ],
      "execution_count": 3,
      "outputs": [
        {
          "output_type": "stream",
          "name": "stdout",
          "text": [
            "Archive:  /content/gdrive/MyDrive/Dataset_2.zip/Dataset_2.zip\n",
            "   creating: Dataset_2/\n",
            "  inflating: Dataset_2/t10k-images-idx3-ubyte  \n",
            "  inflating: Dataset_2/t10k-labels-idx1-ubyte  \n",
            "  inflating: Dataset_2/train-images-idx3-ubyte  \n",
            "  inflating: Dataset_2/train-labels-idx1-ubyte  \n",
            "  inflating: Dataset_2/verification_test.csv  \n",
            "  inflating: Dataset_2/verification_train.csv  \n"
          ]
        }
      ]
    },
    {
      "cell_type": "code",
      "metadata": {
        "id": "R5JNn_LHmSEy"
      },
      "source": [
        "train_csv  = pd.read_csv('/content/Dataset_2/verification_train.csv')\n",
        "test_csv = pd.read_csv('/content/Dataset_2/verification_test.csv')"
      ],
      "execution_count": 4,
      "outputs": []
    },
    {
      "cell_type": "code",
      "metadata": {
        "id": "8lnWSkT9bHq6"
      },
      "source": [
        "class FashionDataset(Dataset):\n",
        "    \"\"\"User defined class to build a datset using Pytorch class Dataset.\"\"\"\n",
        "    \n",
        "    def __init__(self, data, transform = None):\n",
        "        \"\"\"Method to initilaize variables.\"\"\" \n",
        "        self.fashion_MNIST = list(data.values)\n",
        "        self.transform = transform\n",
        "        \n",
        "        label = []\n",
        "        image = []\n",
        "        \n",
        "        for i in self.fashion_MNIST:\n",
        "             # first column is of labels.\n",
        "            label.append(i[0])\n",
        "            image.append(i[1:])\n",
        "        self.labels = np.asarray(label)\n",
        "        # Dimension of Images = 28 * 28 * 1. where height = width = 28 and color_channels = 1.\n",
        "        self.images = np.asarray(image).reshape(-1, 28, 28, 1).astype('float32')\n",
        "\n",
        "    def __getitem__(self, index):\n",
        "        label = self.labels[index]\n",
        "        image = self.images[index]\n",
        "        \n",
        "        if self.transform is not None:\n",
        "            image = self.transform(image)\n",
        "\n",
        "        return image, label\n",
        "\n",
        "    def __len__(self):\n",
        "        return len(self.images)"
      ],
      "execution_count": 5,
      "outputs": []
    },
    {
      "cell_type": "code",
      "metadata": {
        "id": "AwEAynkizMD9"
      },
      "source": [
        "# Transform data into Tensor that has a range from 0 to 1\n",
        "train_set = FashionDataset(train_csv, transform=transforms.Compose([transforms.ToTensor()]))\n",
        "test_set = FashionDataset(test_csv, transform=transforms.Compose([transforms.ToTensor()]))\n",
        "\n"
      ],
      "execution_count": 6,
      "outputs": []
    },
    {
      "cell_type": "markdown",
      "metadata": {
        "id": "_DKIiWAf30Hh"
      },
      "source": [
        "# Experiment 2"
      ]
    },
    {
      "cell_type": "code",
      "metadata": {
        "id": "tPtsLeCD3Xei"
      },
      "source": [
        "# Hyperparameters\n",
        "batch_size = 100\n",
        "num_iters = 50000\n",
        "input_dim = 28*28 # num_features = 784\n",
        "num_hidden = 500\n",
        "output_dim = 10\n",
        "\n",
        "learning_rate = 0.01\n",
        "\n",
        "\n",
        "num_epochs = num_iters / (len(train_set) / batch_size)\n",
        "num_epochs = int(num_epochs)\n",
        "\n",
        "iteration_loss = []\n",
        "accuracy_l = []\n",
        "\n",
        "# Device\n",
        "device = torch.device(\"cuda:0\" if torch.cuda.is_available() else \"cpu\")\n",
        "\n",
        "\n",
        "train_loader = torch.utils.data.DataLoader(dataset=train_set, \n",
        "                                           batch_size=batch_size, \n",
        "                                           shuffle=True)   # It's better to shuffle the whole training dataset! \n",
        "\n",
        "test_loader = torch.utils.data.DataLoader(dataset=test_set, \n",
        "                                          batch_size=batch_size, \n",
        "                                          shuffle=False) \n",
        "\n",
        "class DeepNeuralNetworkModel(nn.Module):\n",
        "    def __init__(self, input_size, num_classes, num_hidden):\n",
        "        super().__init__()\n",
        "        ### 1st hidden layer: 784 --> 100\n",
        "        self.linear_1 = nn.Linear(input_size, num_hidden)\n",
        "        ### Non-linearity in 1st hidden layer\n",
        "        self.relu_1 = nn.ReLU()\n",
        "\n",
        "        ### 2nd hidden layer: 100 --> 100\n",
        "        self.linear_2 = nn.Linear(num_hidden, num_hidden)\n",
        "        ### Non-linearity in 2nd hidden layer\n",
        "        self.relu_2 = nn.ReLU()\n",
        "\n",
        "        ### 3rd hidden layer: 100 --> 100\n",
        "        self.linear_3 = nn.Linear(num_hidden, num_hidden)\n",
        "        ### Non-linearity in 3rd hidden layer\n",
        "        self.relu_3 = nn.ReLU()\n",
        "\n",
        "        ### 4th hidden layer: 100 --> 100\n",
        "        self.linear_4 = nn.Linear(num_hidden, num_hidden)\n",
        "        ### Non-linearity in 4th hidden layer\n",
        "        self.relu_4 = nn.ReLU()\n",
        "\n",
        "        ### Output layer: 100 --> 10\n",
        "        self.linear_out = nn.Linear(num_hidden, num_classes)\n",
        "\n",
        "    def forward(self, x):\n",
        "        ### 1st hidden layer\n",
        "        # x = x.view(x.shape[0], -1)\n",
        "        out  = self.linear_1(x)\n",
        "        ### Non-linearity in 1st hidden layer\n",
        "        out = self.relu_1(out)\n",
        "        \n",
        "        ### 2nd hidden layer\n",
        "        out  = self.linear_2(out)\n",
        "        ### Non-linearity in 2nd hidden layer\n",
        "        out = self.relu_2(out)\n",
        "\n",
        "        ### 3rd hidden layer\n",
        "        out  = self.linear_3(out)\n",
        "        ### Non-linearity in 3rd hidden layer\n",
        "        out = self.relu_3(out)\n",
        "\n",
        "        ### 4th hidden layer\n",
        "        out  = self.linear_4(out)\n",
        "        ### Non-linearity in 4th hidden layer\n",
        "        out = self.relu_4(out)\n",
        "        \n",
        "        # Linear layer (output)\n",
        "        probas  = self.linear_out(out)\n",
        "        return probas\n",
        "\n",
        "# INSTANTIATE MODEL CLASS\n",
        "\n",
        "model = DeepNeuralNetworkModel(input_size = input_dim,\n",
        "                               num_classes = output_dim,\n",
        "                               num_hidden = num_hidden)\n",
        "\n",
        "\n",
        "# To enable GPU\n",
        "model.to(device)\n",
        "\n",
        "criterion = nn.CrossEntropyLoss()\n",
        "optimizer = torch.optim.SGD(model.parameters(), lr=learning_rate)"
      ],
      "execution_count": 7,
      "outputs": []
    },
    {
      "cell_type": "code",
      "metadata": {
        "colab": {
          "base_uri": "https://localhost:8080/"
        },
        "id": "7zlNWSmTkE7p",
        "outputId": "11afcdbf-7a55-4d35-fc58-6a7729ee975d"
      },
      "source": [
        "iter = 0\n",
        "for epoch in range(num_epochs):\n",
        "    for i, (images, labels) in enumerate(train_loader):\n",
        "\n",
        "        images = images.view(-1, 28*28).to(device)\n",
        "        labels = labels.to(device)\n",
        "\n",
        "        # Clear gradients w.r.t. parameters\n",
        "        optimizer.zero_grad()\n",
        "\n",
        "        # Forward pass to get output/logits\n",
        "        outputs = model(images) \n",
        "\n",
        "        # Calculate Loss: softmax --> cross entropy loss\n",
        "        loss = criterion(outputs, labels)\n",
        "\n",
        "        # Getting gradients w.r.t. parameters\n",
        "        loss.backward()\n",
        "\n",
        "        # Updating parameters\n",
        "        optimizer.step()\n",
        "\n",
        "        iter += 1\n",
        "        if iter % 50 == 0:\n",
        "            print(\"\\r>> Current Iteration {}\".format(iter+1),end='')\n",
        "\n",
        "        if iter % 500 == 0:\n",
        "            # Calculate Accuracy         \n",
        "            correct = 0\n",
        "            total = 0\n",
        "            # Iterate through test dataset\n",
        "            for images, labels in test_loader:\n",
        "               \n",
        "                images = images.view(-1, 28*28).to(device)\n",
        "\n",
        "                # Forward pass only to get logits/output\n",
        "                outputs = model(images)\n",
        "\n",
        "                # Get predictions from the maximum value\n",
        "                _, predicted = torch.max(outputs, 1)\n",
        "\n",
        "                # Total number of labels\n",
        "                total += labels.size(0)\n",
        "\n",
        "\n",
        "                # Total correct predictions\n",
        "                if torch.cuda.is_available():\n",
        "                    correct += (predicted.cpu() == labels.cpu()).sum() \n",
        "                else:\n",
        "                    correct += (predicted == labels).sum()\n",
        "\n",
        "            accuracy = 100 * correct.item() / total\n",
        "\n",
        "            iteration_loss.append(loss.item())\n",
        "            accuracy_l.append(accuracy)\n",
        "\n",
        "            # Print Loss\n",
        "            print('\\nIteration: {}. Loss: {}. Accuracy: {}'.format(iter, loss.item(), accuracy))"
      ],
      "execution_count": 8,
      "outputs": [
        {
          "output_type": "stream",
          "name": "stdout",
          "text": [
            ">> Current Iteration 501\n",
            "Iteration: 500. Loss: 0.4263000786304474. Accuracy: 84.38\n",
            ">> Current Iteration 1001\n",
            "Iteration: 1000. Loss: 0.4178248345851898. Accuracy: 84.47\n",
            ">> Current Iteration 1501\n",
            "Iteration: 1500. Loss: 0.4982134699821472. Accuracy: 86.0\n",
            ">> Current Iteration 2001\n",
            "Iteration: 2000. Loss: 0.39514514803886414. Accuracy: 86.38\n",
            ">> Current Iteration 2501\n",
            "Iteration: 2500. Loss: 0.3446316421031952. Accuracy: 87.72\n",
            ">> Current Iteration 3001\n",
            "Iteration: 3000. Loss: 0.3913212716579437. Accuracy: 87.98\n",
            ">> Current Iteration 3501\n",
            "Iteration: 3500. Loss: 0.25503402948379517. Accuracy: 88.32\n",
            ">> Current Iteration 4001\n",
            "Iteration: 4000. Loss: 0.30883246660232544. Accuracy: 88.75\n",
            ">> Current Iteration 4501\n",
            "Iteration: 4500. Loss: 0.21970278024673462. Accuracy: 89.02\n",
            ">> Current Iteration 5001\n",
            "Iteration: 5000. Loss: 0.2323482185602188. Accuracy: 87.09\n",
            ">> Current Iteration 5501\n",
            "Iteration: 5500. Loss: 0.16331107914447784. Accuracy: 88.96\n",
            ">> Current Iteration 6001\n",
            "Iteration: 6000. Loss: 0.20742499828338623. Accuracy: 88.68\n",
            ">> Current Iteration 6501\n",
            "Iteration: 6500. Loss: 0.19007731974124908. Accuracy: 88.89\n",
            ">> Current Iteration 7001\n",
            "Iteration: 7000. Loss: 0.26780155301094055. Accuracy: 88.31\n",
            ">> Current Iteration 7501\n",
            "Iteration: 7500. Loss: 0.19520080089569092. Accuracy: 89.4\n",
            ">> Current Iteration 8001\n",
            "Iteration: 8000. Loss: 0.2926088273525238. Accuracy: 89.36\n",
            ">> Current Iteration 8501\n",
            "Iteration: 8500. Loss: 0.12276758253574371. Accuracy: 89.6\n",
            ">> Current Iteration 9001\n",
            "Iteration: 9000. Loss: 0.1664981245994568. Accuracy: 90.02\n",
            ">> Current Iteration 9501\n",
            "Iteration: 9500. Loss: 0.16965796053409576. Accuracy: 89.31\n",
            ">> Current Iteration 10001\n",
            "Iteration: 10000. Loss: 0.1179940328001976. Accuracy: 89.48\n",
            ">> Current Iteration 10501\n",
            "Iteration: 10500. Loss: 0.18649841845035553. Accuracy: 88.88\n",
            ">> Current Iteration 11001\n",
            "Iteration: 11000. Loss: 0.09509797394275665. Accuracy: 89.56\n",
            ">> Current Iteration 11501\n",
            "Iteration: 11500. Loss: 0.15696342289447784. Accuracy: 88.9\n",
            ">> Current Iteration 12001\n",
            "Iteration: 12000. Loss: 0.25715234875679016. Accuracy: 89.3\n",
            ">> Current Iteration 12501\n",
            "Iteration: 12500. Loss: 0.1451118141412735. Accuracy: 89.43\n",
            ">> Current Iteration 13001\n",
            "Iteration: 13000. Loss: 0.19342264533042908. Accuracy: 89.41\n",
            ">> Current Iteration 13501\n",
            "Iteration: 13500. Loss: 0.136422798037529. Accuracy: 89.56\n",
            ">> Current Iteration 14001\n",
            "Iteration: 14000. Loss: 0.11040476709604263. Accuracy: 89.52\n",
            ">> Current Iteration 14501\n",
            "Iteration: 14500. Loss: 0.09745777398347855. Accuracy: 89.36\n",
            ">> Current Iteration 15001\n",
            "Iteration: 15000. Loss: 0.11801709234714508. Accuracy: 89.71\n",
            ">> Current Iteration 15501\n",
            "Iteration: 15500. Loss: 0.10887804627418518. Accuracy: 88.94\n",
            ">> Current Iteration 16001\n",
            "Iteration: 16000. Loss: 0.07513462752103806. Accuracy: 89.59\n",
            ">> Current Iteration 16501\n",
            "Iteration: 16500. Loss: 0.10463745146989822. Accuracy: 89.88\n",
            ">> Current Iteration 17001\n",
            "Iteration: 17000. Loss: 0.11213245987892151. Accuracy: 89.69\n",
            ">> Current Iteration 17501\n",
            "Iteration: 17500. Loss: 0.14940713346004486. Accuracy: 89.83\n",
            ">> Current Iteration 18001\n",
            "Iteration: 18000. Loss: 0.09014236181974411. Accuracy: 90.0\n",
            ">> Current Iteration 18501\n",
            "Iteration: 18500. Loss: 0.10720844566822052. Accuracy: 89.78\n",
            ">> Current Iteration 19001\n",
            "Iteration: 19000. Loss: 0.05949850380420685. Accuracy: 89.77\n",
            ">> Current Iteration 19501\n",
            "Iteration: 19500. Loss: 0.08764112740755081. Accuracy: 89.91\n",
            ">> Current Iteration 20001\n",
            "Iteration: 20000. Loss: 0.06560802459716797. Accuracy: 90.2\n",
            ">> Current Iteration 20501\n",
            "Iteration: 20500. Loss: 0.0637093037366867. Accuracy: 89.69\n",
            ">> Current Iteration 21001\n",
            "Iteration: 21000. Loss: 0.032983385026454926. Accuracy: 89.63\n",
            ">> Current Iteration 21501\n",
            "Iteration: 21500. Loss: 0.14047205448150635. Accuracy: 89.99\n",
            ">> Current Iteration 22001\n",
            "Iteration: 22000. Loss: 0.054009050130844116. Accuracy: 89.94\n",
            ">> Current Iteration 22501\n",
            "Iteration: 22500. Loss: 0.046693313866853714. Accuracy: 89.78\n",
            ">> Current Iteration 23001\n",
            "Iteration: 23000. Loss: 0.05384686589241028. Accuracy: 90.05\n",
            ">> Current Iteration 23501\n",
            "Iteration: 23500. Loss: 0.09877253323793411. Accuracy: 89.73\n",
            ">> Current Iteration 24001\n",
            "Iteration: 24000. Loss: 0.023820407688617706. Accuracy: 90.12\n",
            ">> Current Iteration 24501\n",
            "Iteration: 24500. Loss: 0.1816142052412033. Accuracy: 88.18\n",
            ">> Current Iteration 25001\n",
            "Iteration: 25000. Loss: 0.07475969195365906. Accuracy: 89.6\n",
            ">> Current Iteration 25501\n",
            "Iteration: 25500. Loss: 0.14668357372283936. Accuracy: 89.5\n",
            ">> Current Iteration 26001\n",
            "Iteration: 26000. Loss: 0.014168906025588512. Accuracy: 90.44\n",
            ">> Current Iteration 26501\n",
            "Iteration: 26500. Loss: 0.037285566329956055. Accuracy: 89.56\n",
            ">> Current Iteration 27001\n",
            "Iteration: 27000. Loss: 0.1714949607849121. Accuracy: 88.52\n",
            ">> Current Iteration 27501\n",
            "Iteration: 27500. Loss: 0.05263501778244972. Accuracy: 89.78\n",
            ">> Current Iteration 28001\n",
            "Iteration: 28000. Loss: 0.02603108435869217. Accuracy: 90.03\n",
            ">> Current Iteration 28501\n",
            "Iteration: 28500. Loss: 0.06302939355373383. Accuracy: 89.43\n",
            ">> Current Iteration 29001\n",
            "Iteration: 29000. Loss: 0.03389862924814224. Accuracy: 90.18\n",
            ">> Current Iteration 29501\n",
            "Iteration: 29500. Loss: 0.04173414409160614. Accuracy: 90.52\n",
            ">> Current Iteration 30001\n",
            "Iteration: 30000. Loss: 0.05149306729435921. Accuracy: 90.55\n",
            ">> Current Iteration 30501\n",
            "Iteration: 30500. Loss: 0.012155034579336643. Accuracy: 89.95\n",
            ">> Current Iteration 31001\n",
            "Iteration: 31000. Loss: 0.03562059998512268. Accuracy: 89.99\n",
            ">> Current Iteration 31501\n",
            "Iteration: 31500. Loss: 0.03660152852535248. Accuracy: 90.27\n",
            ">> Current Iteration 32001\n",
            "Iteration: 32000. Loss: 0.014739114791154861. Accuracy: 90.47\n",
            ">> Current Iteration 32501\n",
            "Iteration: 32500. Loss: 0.013291532173752785. Accuracy: 90.64\n",
            ">> Current Iteration 33001\n",
            "Iteration: 33000. Loss: 0.017134789377450943. Accuracy: 90.28\n",
            ">> Current Iteration 33501\n",
            "Iteration: 33500. Loss: 0.007477693725377321. Accuracy: 90.65\n",
            ">> Current Iteration 34001\n",
            "Iteration: 34000. Loss: 0.004849003627896309. Accuracy: 90.3\n",
            ">> Current Iteration 34501\n",
            "Iteration: 34500. Loss: 0.03974207863211632. Accuracy: 89.09\n",
            ">> Current Iteration 35001\n",
            "Iteration: 35000. Loss: 0.01859033666551113. Accuracy: 90.36\n",
            ">> Current Iteration 35501\n",
            "Iteration: 35500. Loss: 0.004229690879583359. Accuracy: 90.42\n",
            ">> Current Iteration 36001\n",
            "Iteration: 36000. Loss: 0.0026908975560218096. Accuracy: 90.55\n",
            ">> Current Iteration 36501\n",
            "Iteration: 36500. Loss: 0.01245814561843872. Accuracy: 90.41\n",
            ">> Current Iteration 37001\n",
            "Iteration: 37000. Loss: 0.27453964948654175. Accuracy: 85.84\n",
            ">> Current Iteration 37501\n",
            "Iteration: 37500. Loss: 0.08277770131826401. Accuracy: 89.39\n",
            ">> Current Iteration 38001\n",
            "Iteration: 38000. Loss: 0.04425393417477608. Accuracy: 89.97\n",
            ">> Current Iteration 38501\n",
            "Iteration: 38500. Loss: 0.048473335802555084. Accuracy: 90.08\n",
            ">> Current Iteration 39001\n",
            "Iteration: 39000. Loss: 0.1248563602566719. Accuracy: 89.98\n",
            ">> Current Iteration 39501\n",
            "Iteration: 39500. Loss: 0.021266872063279152. Accuracy: 89.9\n",
            ">> Current Iteration 40001\n",
            "Iteration: 40000. Loss: 0.029453206807374954. Accuracy: 90.0\n",
            ">> Current Iteration 40501\n",
            "Iteration: 40500. Loss: 0.004469229374080896. Accuracy: 90.28\n",
            ">> Current Iteration 41001\n",
            "Iteration: 41000. Loss: 0.03972075879573822. Accuracy: 90.02\n",
            ">> Current Iteration 41501\n",
            "Iteration: 41500. Loss: 0.032527998089790344. Accuracy: 90.26\n",
            ">> Current Iteration 42001\n",
            "Iteration: 42000. Loss: 0.04552054777741432. Accuracy: 89.62\n",
            ">> Current Iteration 42501\n",
            "Iteration: 42500. Loss: 0.02797914482653141. Accuracy: 90.04\n",
            ">> Current Iteration 43001\n",
            "Iteration: 43000. Loss: 0.0457129143178463. Accuracy: 89.44\n",
            ">> Current Iteration 43501\n",
            "Iteration: 43500. Loss: 0.011164541356265545. Accuracy: 90.33\n",
            ">> Current Iteration 44001\n",
            "Iteration: 44000. Loss: 0.012102292850613594. Accuracy: 90.21\n",
            ">> Current Iteration 44501\n",
            "Iteration: 44500. Loss: 0.0026174732483923435. Accuracy: 90.35\n",
            ">> Current Iteration 45001\n",
            "Iteration: 45000. Loss: 0.05346578732132912. Accuracy: 89.65\n",
            ">> Current Iteration 45501\n",
            "Iteration: 45500. Loss: 0.014342857524752617. Accuracy: 90.17\n",
            ">> Current Iteration 46001\n",
            "Iteration: 46000. Loss: 0.009810095652937889. Accuracy: 90.24\n",
            ">> Current Iteration 46501\n",
            "Iteration: 46500. Loss: 0.0021333692129701376. Accuracy: 90.03\n",
            ">> Current Iteration 47001\n",
            "Iteration: 47000. Loss: 0.0024763434194028378. Accuracy: 90.58\n",
            ">> Current Iteration 47501\n",
            "Iteration: 47500. Loss: 0.0017874299082905054. Accuracy: 90.25\n",
            ">> Current Iteration 48001\n",
            "Iteration: 48000. Loss: 0.02074269764125347. Accuracy: 90.06\n",
            ">> Current Iteration 48501\n",
            "Iteration: 48500. Loss: 0.06989233195781708. Accuracy: 89.79\n",
            ">> Current Iteration 49001\n",
            "Iteration: 49000. Loss: 0.006424098741263151. Accuracy: 90.35\n",
            ">> Current Iteration 49501\n",
            "Iteration: 49500. Loss: 0.0028589859139174223. Accuracy: 90.6\n",
            ">> Current Iteration 49801"
          ]
        }
      ]
    },
    {
      "cell_type": "code",
      "metadata": {
        "colab": {
          "base_uri": "https://localhost:8080/",
          "height": 279
        },
        "id": "lqiMUJuX66_R",
        "outputId": "fdc30f72-8866-4a07-bf85-085d607431cc"
      },
      "source": [
        "import matplotlib\n",
        "import matplotlib.pyplot as plt\n",
        "# print (iteration_loss)\n",
        "plt.plot(iteration_loss)\n",
        "plt.ylabel('Cross Entropy Loss')\n",
        "plt.xlabel('Iteration (in every 500)')\n",
        "plt.show()"
      ],
      "execution_count": 9,
      "outputs": [
        {
          "output_type": "display_data",
          "data": {
            "image/png": "[encoded data removed]",
            "text/plain": [
              "<Figure size 432x288 with 1 Axes>"
            ]
          },
          "metadata": {
            "needs_background": "light"
          }
        }
      ]
    },
    {
      "cell_type": "code",
      "metadata": {
        "id": "tJLSFIbs3W9t"
      },
      "source": [
        "\n",
        "save_model = True\n",
        "\n",
        "if save_model is True:\n",
        "    # Saves only parameters\n",
        "    # weights & biases\n",
        "    torch.save(model.state_dict(), 'exp_02_2.pkl')"
      ],
      "execution_count": 10,
      "outputs": []
    },
    {
      "cell_type": "code",
      "metadata": {
        "id": "ZmWiVx7PnInb",
        "colab": {
          "base_uri": "https://localhost:8080/"
        },
        "outputId": "2f7e00f8-0911-4fcb-ddaf-2c087c014ba9"
      },
      "source": [
        "load_model = True\n",
        "\n",
        "if load_model is True:\n",
        "    model.load_state_dict(torch.load('/content/exp_02_2.pkl'))\n",
        "    print('Trained Model Loaded')"
      ],
      "execution_count": 11,
      "outputs": [
        {
          "output_type": "stream",
          "name": "stdout",
          "text": [
            "Trained Model Loaded\n"
          ]
        }
      ]
    },
    {
      "cell_type": "code",
      "metadata": {
        "id": "iXBD03JfnUyF",
        "colab": {
          "base_uri": "https://localhost:8080/",
          "height": 80
        },
        "outputId": "f369d5b4-4374-47fd-de7b-2d65e04a70ea"
      },
      "source": [
        "for images, labels in test_loader:\n",
        "    break\n",
        "    \n",
        "fig, ax = plt.subplots(1, 10)\n",
        "for i in range(10):\n",
        "    ax[i].imshow(images[i].view(28, 28), cmap=matplotlib.cm.binary)\n",
        "\n",
        "plt.show()"
      ],
      "execution_count": 12,
      "outputs": [
        {
          "output_type": "display_data",
          "data": {
            "image/png": "[encoded data removed]",
            "text/plain": [
              "<Figure size 432x288 with 10 Axes>"
            ]
          },
          "metadata": {
            "needs_background": "light"
          }
        }
      ]
    },
    {
      "cell_type": "code",
      "metadata": {
        "id": "PJWLzTpkrebI",
        "colab": {
          "base_uri": "https://localhost:8080/"
        },
        "outputId": "3f8bb5a8-c0ea-4501-a0cb-362e28bc851c"
      },
      "source": [
        "predictions = model.forward(images[:10].view(-1, 28*28).to(device))\n",
        "predictions = torch.argmax(predictions, dim=1)\n",
        "print('Predicted labels', predictions.cpu().numpy())"
      ],
      "execution_count": 13,
      "outputs": [
        {
          "output_type": "stream",
          "name": "stdout",
          "text": [
            "Predicted labels [0 1 2 2 3 6 8 3 5 0]\n"
          ]
        }
      ]
    }
  ]
}